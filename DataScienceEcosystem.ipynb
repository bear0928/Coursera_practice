{
  "nbformat": 4,
  "nbformat_minor": 0,
  "metadata": {
    "colab": {
      "provenance": []
    },
    "kernelspec": {
      "name": "python3",
      "display_name": "Python 3"
    },
    "language_info": {
      "name": "python"
    }
  },
  "cells": [
    {
      "cell_type": "markdown",
      "source": [
        "# Data Science Tools and Ecosystem"
      ],
      "metadata": {
        "id": "q28n2d2CYfgd"
      }
    },
    {
      "cell_type": "markdown",
      "source": [
        "In this notebook, Data Science Tools and Ecosystem are summarized."
      ],
      "metadata": {
        "id": "bSu2dI3ZYyqx"
      }
    },
    {
      "cell_type": "markdown",
      "source": [
        "Some of the popular languages that Data Scientists use are:\n",
        "\n",
        "1.  Python\n",
        "2.  R\n",
        "3.  SQL"
      ],
      "metadata": {
        "id": "9PN6l04_ZJKk"
      }
    },
    {
      "cell_type": "markdown",
      "source": [
        "\n",
        "**Objectives:**\n",
        "\n",
        "List popular languages for Data Science\n",
        "*   python\n",
        "*   R\n",
        "*   SQL\n",
        "\n",
        "\n",
        "\n"
      ],
      "metadata": {
        "id": "6MGeURWmbPSt"
      }
    },
    {
      "cell_type": "markdown",
      "source": [
        "Some of the commonly used libraries used by Data Scientists include:\n",
        "\n",
        "\n",
        "1.  Pandas\n",
        "2.  Numpy\n",
        "3.  Matplotlib\n",
        "\n"
      ],
      "metadata": {
        "id": "-Trtdk7EZcmm"
      }
    },
    {
      "cell_type": "markdown",
      "source": [
        "| Data Science Tools |\n",
        "| :--- |\n",
        "| Jupyter |\n",
        "| RStudio |\n",
        "| Apache Spark |"
      ],
      "metadata": {
        "id": "547hIdGtZo8t"
      }
    },
    {
      "cell_type": "markdown",
      "source": [
        "### Below are a few examples of evaluating arithmetic expressions in Python"
      ],
      "metadata": {
        "id": "vID3ZDbTaDAH"
      }
    },
    {
      "cell_type": "code",
      "source": [
        "(3*4)+5\n",
        "#This a simple arithmetic expression to mutiply then add integers"
      ],
      "metadata": {
        "colab": {
          "base_uri": "https://localhost:8080/"
        },
        "id": "T-vDzGuVZ2ts",
        "outputId": "51e53493-8fad-4907-9ba0-02d84773f840"
      },
      "execution_count": 1,
      "outputs": [
        {
          "output_type": "execute_result",
          "data": {
            "text/plain": [
              "17"
            ]
          },
          "metadata": {},
          "execution_count": 1
        }
      ]
    },
    {
      "cell_type": "code",
      "source": [
        "# This will convert 200 minutes to hours by diving by 60.\n",
        "def min_to_hour(min):\n",
        "  hour = min/60\n",
        "  return hour\n",
        "min = 200\n",
        "hour = min_to_hour(min)\n",
        "hour"
      ],
      "metadata": {
        "colab": {
          "base_uri": "https://localhost:8080/"
        },
        "id": "obbZ7uD0aNz2",
        "outputId": "82067d82-780b-4969-d271-00f3002ee8a2"
      },
      "execution_count": 3,
      "outputs": [
        {
          "output_type": "execute_result",
          "data": {
            "text/plain": [
              "3.3333333333333335"
            ]
          },
          "metadata": {},
          "execution_count": 3
        }
      ]
    },
    {
      "cell_type": "markdown",
      "source": [
        "## Author\n",
        "Hsin Ting"
      ],
      "metadata": {
        "id": "EnS_ZCqVbvE1"
      }
    }
  ]
}